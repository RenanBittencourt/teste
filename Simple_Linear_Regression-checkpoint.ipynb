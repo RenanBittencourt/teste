{
 "cells": [
  {
   "cell_type": "markdown",
   "id": "53476362",
   "metadata": {},
   "source": [
    "# Dataset_Kaggle:Salary"
   ]
  },
  {
   "cell_type": "markdown",
   "id": "270b5cf9",
   "metadata": {},
   "source": [
    "# Importações"
   ]
  },
  {
   "cell_type": "code",
   "execution_count": 21,
   "id": "3a6c488c",
   "metadata": {},
   "outputs": [],
   "source": [
    "import pandas as pd\n",
    "import numpy as np\n",
    "import matplotlib.pyplot as plt\n",
    "import seaborn as sns\n",
    "import math\n",
    "from sklearn.model_selection import train_test_split\n",
    "from sklearn.linear_model import LinearRegression\n",
    "from sklearn.metrics import mean_absolute_error, mean_squared_error"
   ]
  },
  {
   "cell_type": "code",
   "execution_count": 2,
   "id": "1c3e02c8",
   "metadata": {},
   "outputs": [
    {
     "data": {
      "text/html": [
       "<div>\n",
       "<style scoped>\n",
       "    .dataframe tbody tr th:only-of-type {\n",
       "        vertical-align: middle;\n",
       "    }\n",
       "\n",
       "    .dataframe tbody tr th {\n",
       "        vertical-align: top;\n",
       "    }\n",
       "\n",
       "    .dataframe thead th {\n",
       "        text-align: right;\n",
       "    }\n",
       "</style>\n",
       "<table border=\"1\" class=\"dataframe\">\n",
       "  <thead>\n",
       "    <tr style=\"text-align: right;\">\n",
       "      <th></th>\n",
       "      <th>YearsExperience</th>\n",
       "      <th>Salary</th>\n",
       "    </tr>\n",
       "  </thead>\n",
       "  <tbody>\n",
       "    <tr>\n",
       "      <th>0</th>\n",
       "      <td>1.1</td>\n",
       "      <td>39343</td>\n",
       "    </tr>\n",
       "    <tr>\n",
       "      <th>1</th>\n",
       "      <td>1.3</td>\n",
       "      <td>46205</td>\n",
       "    </tr>\n",
       "    <tr>\n",
       "      <th>2</th>\n",
       "      <td>1.5</td>\n",
       "      <td>37731</td>\n",
       "    </tr>\n",
       "    <tr>\n",
       "      <th>3</th>\n",
       "      <td>2.0</td>\n",
       "      <td>43525</td>\n",
       "    </tr>\n",
       "    <tr>\n",
       "      <th>4</th>\n",
       "      <td>2.2</td>\n",
       "      <td>39891</td>\n",
       "    </tr>\n",
       "  </tbody>\n",
       "</table>\n",
       "</div>"
      ],
      "text/plain": [
       "   YearsExperience  Salary\n",
       "0              1.1   39343\n",
       "1              1.3   46205\n",
       "2              1.5   37731\n",
       "3              2.0   43525\n",
       "4              2.2   39891"
      ]
     },
     "execution_count": 2,
     "metadata": {},
     "output_type": "execute_result"
    }
   ],
   "source": [
    "data_raw = pd.read_csv('Salary.csv')\n",
    "data_raw.head()"
   ]
  },
  {
   "cell_type": "markdown",
   "id": "f03b00be",
   "metadata": {},
   "source": [
    "# Verificando Dados Incorretos"
   ]
  },
  {
   "cell_type": "code",
   "execution_count": 3,
   "id": "69dd45b6",
   "metadata": {},
   "outputs": [
    {
     "data": {
      "text/plain": [
       "YearsExperience    0\n",
       "Salary             0\n",
       "dtype: int64"
      ]
     },
     "execution_count": 3,
     "metadata": {},
     "output_type": "execute_result"
    }
   ],
   "source": [
    "data_raw.isnull().sum()"
   ]
  },
  {
   "cell_type": "code",
   "execution_count": 4,
   "id": "3a38e262",
   "metadata": {},
   "outputs": [
    {
     "data": {
      "text/plain": [
       "YearsExperience    0\n",
       "Salary             0\n",
       "dtype: int64"
      ]
     },
     "execution_count": 4,
     "metadata": {},
     "output_type": "execute_result"
    }
   ],
   "source": [
    "data_raw.isna().sum()"
   ]
  },
  {
   "cell_type": "code",
   "execution_count": 5,
   "id": "9e5d89f7",
   "metadata": {},
   "outputs": [
    {
     "data": {
      "text/plain": [
       "0"
      ]
     },
     "execution_count": 5,
     "metadata": {},
     "output_type": "execute_result"
    }
   ],
   "source": [
    "data_raw.duplicated().sum()"
   ]
  },
  {
   "cell_type": "markdown",
   "id": "ef663256",
   "metadata": {},
   "source": [
    "# Analisando a Base de dados"
   ]
  },
  {
   "cell_type": "code",
   "execution_count": 6,
   "id": "f3d924c9",
   "metadata": {},
   "outputs": [
    {
     "data": {
      "text/plain": [
       "YearsExperience    float64\n",
       "Salary               int64\n",
       "dtype: object"
      ]
     },
     "execution_count": 6,
     "metadata": {},
     "output_type": "execute_result"
    }
   ],
   "source": [
    "data_raw.dtypes"
   ]
  },
  {
   "cell_type": "code",
   "execution_count": 7,
   "id": "8c9d3a76",
   "metadata": {},
   "outputs": [
    {
     "data": {
      "text/html": [
       "<div>\n",
       "<style scoped>\n",
       "    .dataframe tbody tr th:only-of-type {\n",
       "        vertical-align: middle;\n",
       "    }\n",
       "\n",
       "    .dataframe tbody tr th {\n",
       "        vertical-align: top;\n",
       "    }\n",
       "\n",
       "    .dataframe thead th {\n",
       "        text-align: right;\n",
       "    }\n",
       "</style>\n",
       "<table border=\"1\" class=\"dataframe\">\n",
       "  <thead>\n",
       "    <tr style=\"text-align: right;\">\n",
       "      <th></th>\n",
       "      <th>YearsExperience</th>\n",
       "      <th>Salary</th>\n",
       "    </tr>\n",
       "  </thead>\n",
       "  <tbody>\n",
       "    <tr>\n",
       "      <th>count</th>\n",
       "      <td>35.000000</td>\n",
       "      <td>35.000000</td>\n",
       "    </tr>\n",
       "    <tr>\n",
       "      <th>mean</th>\n",
       "      <td>6.308571</td>\n",
       "      <td>83945.600000</td>\n",
       "    </tr>\n",
       "    <tr>\n",
       "      <th>std</th>\n",
       "      <td>3.618610</td>\n",
       "      <td>32162.673003</td>\n",
       "    </tr>\n",
       "    <tr>\n",
       "      <th>min</th>\n",
       "      <td>1.100000</td>\n",
       "      <td>37731.000000</td>\n",
       "    </tr>\n",
       "    <tr>\n",
       "      <th>25%</th>\n",
       "      <td>3.450000</td>\n",
       "      <td>57019.000000</td>\n",
       "    </tr>\n",
       "    <tr>\n",
       "      <th>50%</th>\n",
       "      <td>5.300000</td>\n",
       "      <td>81363.000000</td>\n",
       "    </tr>\n",
       "    <tr>\n",
       "      <th>75%</th>\n",
       "      <td>9.250000</td>\n",
       "      <td>113223.500000</td>\n",
       "    </tr>\n",
       "    <tr>\n",
       "      <th>max</th>\n",
       "      <td>13.500000</td>\n",
       "      <td>139465.000000</td>\n",
       "    </tr>\n",
       "  </tbody>\n",
       "</table>\n",
       "</div>"
      ],
      "text/plain": [
       "       YearsExperience         Salary\n",
       "count        35.000000      35.000000\n",
       "mean          6.308571   83945.600000\n",
       "std           3.618610   32162.673003\n",
       "min           1.100000   37731.000000\n",
       "25%           3.450000   57019.000000\n",
       "50%           5.300000   81363.000000\n",
       "75%           9.250000  113223.500000\n",
       "max          13.500000  139465.000000"
      ]
     },
     "execution_count": 7,
     "metadata": {},
     "output_type": "execute_result"
    }
   ],
   "source": [
    "data_raw.describe()"
   ]
  },
  {
   "cell_type": "code",
   "execution_count": 9,
   "id": "b6f1e8e3",
   "metadata": {},
   "outputs": [
    {
     "data": {
      "image/png": "[encoded data removed]",
      "text/plain": [
       "<Figure size 432x288 with 2 Axes>"
      ]
     },
     "metadata": {
      "needs_background": "light"
     },
     "output_type": "display_data"
    }
   ],
   "source": [
    "sns.heatmap(data_raw.corr(), annot=True);"
   ]
  },
  {
   "cell_type": "code",
   "execution_count": 15,
   "id": "77795d49",
   "metadata": {},
   "outputs": [
    {
     "data": {
      "text/plain": [
       "YearsExperience    33\n",
       "Salary             35\n",
       "dtype: int64"
      ]
     },
     "execution_count": 15,
     "metadata": {},
     "output_type": "execute_result"
    }
   ],
   "source": [
    "data_raw.nunique()"
   ]
  },
  {
   "cell_type": "code",
   "execution_count": 17,
   "id": "51a345f0",
   "metadata": {},
   "outputs": [
    {
     "data": {
      "image/png": "[encoded data removed]",
      "text/plain": [
       "<Figure size 360x360 with 6 Axes>"
      ]
     },
     "metadata": {
      "needs_background": "light"
     },
     "output_type": "display_data"
    }
   ],
   "source": [
    "sns.pairplot(data_raw);"
   ]
  },
  {
   "cell_type": "markdown",
   "id": "5c7765c6",
   "metadata": {},
   "source": [
    "# <font size='3'>Coeficiente de Determinação</font>"
   ]
  },
  {
   "cell_type": "code",
   "execution_count": 20,
   "id": "d8448081",
   "metadata": {},
   "outputs": [
    {
     "data": {
      "text/plain": [
       "0.9603999999999999"
      ]
     },
     "execution_count": 20,
     "metadata": {},
     "output_type": "execute_result"
    }
   ],
   "source": [
    "math.pow(0.98, 2)"
   ]
  },
  {
   "cell_type": "code",
   "execution_count": 25,
   "id": "98e5019c",
   "metadata": {},
   "outputs": [],
   "source": [
    "data_raw.rename(columns={'YearsExperience':'YE', 'Salary':'S'}, inplace=True)"
   ]
  },
  {
   "cell_type": "markdown",
   "id": "02b7980f",
   "metadata": {},
   "source": [
    "# Algoritmo de Regrassão"
   ]
  },
  {
   "cell_type": "code",
   "execution_count": 26,
   "id": "9cf16fdb",
   "metadata": {},
   "outputs": [
    {
     "data": {
      "text/plain": [
       "(35, 1)"
      ]
     },
     "execution_count": 26,
     "metadata": {},
     "output_type": "execute_result"
    }
   ],
   "source": [
    "X = data_raw['YE'].values\n",
    "x = X.reshape(-1, 1)\n",
    "x.shape"
   ]
  },
  {
   "cell_type": "code",
   "execution_count": 27,
   "id": "f48b1580",
   "metadata": {},
   "outputs": [
    {
     "data": {
      "text/plain": [
       "(35,)"
      ]
     },
     "execution_count": 27,
     "metadata": {},
     "output_type": "execute_result"
    }
   ],
   "source": [
    "y = data_raw['S']\n",
    "y.shape"
   ]
  },
  {
   "cell_type": "code",
   "execution_count": 30,
   "id": "d43aca55",
   "metadata": {},
   "outputs": [
    {
     "data": {
      "text/plain": [
       "((17, 1), (18, 1), (17,), (18,))"
      ]
     },
     "execution_count": 30,
     "metadata": {},
     "output_type": "execute_result"
    }
   ],
   "source": [
    "x_test, x_training, y_test, y_training = train_test_split(x, y, test_size=0.5, random_state=1)\n",
    "x_test.shape, x_training.shape, y_test.shape, y_training.shape"
   ]
  },
  {
   "cell_type": "code",
   "execution_count": 31,
   "id": "0c8854eb",
   "metadata": {},
   "outputs": [
    {
     "data": {
      "text/plain": [
       "LinearRegression()"
      ]
     },
     "execution_count": 31,
     "metadata": {},
     "output_type": "execute_result"
    }
   ],
   "source": [
    "linear = LinearRegression()\n",
    "linear.fit(x_training, y_training)"
   ]
  },
  {
   "cell_type": "markdown",
   "id": "1391b8b1",
   "metadata": {},
   "source": [
    "# <font size='3'>B0,B1</font>"
   ]
  },
  {
   "cell_type": "code",
   "execution_count": 32,
   "id": "ae04fd07",
   "metadata": {},
   "outputs": [
    {
     "data": {
      "text/plain": [
       "(28621.065171079754, array([8855.0429081]))"
      ]
     },
     "execution_count": 32,
     "metadata": {},
     "output_type": "execute_result"
    }
   ],
   "source": [
    "linear.intercept_, linear.coef_"
   ]
  },
  {
   "cell_type": "markdown",
   "id": "745ab3cd",
   "metadata": {},
   "source": [
    "# <font size='3'>Testando o algoritmo de regressão</font>"
   ]
  },
  {
   "cell_type": "code",
   "execution_count": 34,
   "id": "a5b73a8f",
   "metadata": {},
   "outputs": [
    {
     "data": {
      "text/plain": [
       "array([40132.62095162])"
      ]
     },
     "execution_count": 34,
     "metadata": {},
     "output_type": "execute_result"
    }
   ],
   "source": [
    "linear.intercept_ + linear.coef_ * 1.3"
   ]
  },
  {
   "cell_type": "code",
   "execution_count": 37,
   "id": "1099961d",
   "metadata": {},
   "outputs": [
    {
     "data": {
      "text/plain": [
       "array([40132.62095162])"
      ]
     },
     "execution_count": 37,
     "metadata": {},
     "output_type": "execute_result"
    }
   ],
   "source": [
    "linear.predict(np.array([[1.3]]))"
   ]
  },
  {
   "cell_type": "code",
   "execution_count": 38,
   "id": "70a32973",
   "metadata": {},
   "outputs": [
    {
     "data": {
      "text/plain": [
       "[<matplotlib.lines.Line2D at 0x153952deaf0>]"
      ]
     },
     "execution_count": 38,
     "metadata": {},
     "output_type": "execute_result"
    },
    {
     "data": {
      "image/png": "[encoded data removed]",
      "text/plain": [
       "<Figure size 432x288 with 1 Axes>"
      ]
     },
     "metadata": {
      "needs_background": "light"
     },
     "output_type": "display_data"
    }
   ],
   "source": [
    "plt.scatter(x, y)\n",
    "plt.plot(x, linear.predict(x), '-', color='red')"
   ]
  },
  {
   "cell_type": "markdown",
   "id": "c688161f",
   "metadata": {},
   "source": [
    "# Metricas de Erro"
   ]
  },
  {
   "cell_type": "code",
   "execution_count": 39,
   "id": "de643452",
   "metadata": {},
   "outputs": [
    {
     "data": {
      "text/plain": [
       "0.956288777389591"
      ]
     },
     "execution_count": 39,
     "metadata": {},
     "output_type": "execute_result"
    }
   ],
   "source": [
    "linear.score(x_test, y_test)"
   ]
  },
  {
   "cell_type": "code",
   "execution_count": 40,
   "id": "c14073bf",
   "metadata": {},
   "outputs": [
    {
     "data": {
      "text/plain": [
       "0.9608150863894189"
      ]
     },
     "execution_count": 40,
     "metadata": {},
     "output_type": "execute_result"
    }
   ],
   "source": [
    "linear.score(x_training, y_training)"
   ]
  },
  {
   "cell_type": "code",
   "execution_count": 41,
   "id": "42ccfed5",
   "metadata": {},
   "outputs": [
    {
     "data": {
      "text/plain": [
       "(array([ 91491.86981862, 127797.54574185,  88835.35694619,  80865.8183289 ,\n",
       "         55186.19389539,  64926.74109431,  56957.20247701, 148164.14443049,\n",
       "         40132.62095162,  73781.78400241,  38361.61236999,  72010.77542079,\n",
       "         54300.68960458,  64041.2368035 ,  61384.72393107,  56957.20247701,\n",
       "         64041.2368035 ]),\n",
       " 21     98273\n",
       " 30    127345\n",
       " 20     91738\n",
       " 18     81363\n",
       " 6      60150\n",
       " 13     57081\n",
       " 7      54445\n",
       " 34    139465\n",
       " 1      46205\n",
       " 16     66029\n",
       " 0      39343\n",
       " 15     67938\n",
       " 5      56642\n",
       " 11     55794\n",
       " 9      57189\n",
       " 8      64445\n",
       " 12     56957\n",
       " Name: S, dtype: int64)"
      ]
     },
     "execution_count": 41,
     "metadata": {},
     "output_type": "execute_result"
    }
   ],
   "source": [
    "previsoes = linear.predict(x_test)\n",
    "previsoes, y_test"
   ]
  },
  {
   "cell_type": "markdown",
   "id": "fbbe0f28",
   "metadata": {},
   "source": [
    "# <font size='3'>Mae</font>"
   ]
  },
  {
   "cell_type": "code",
   "execution_count": 44,
   "id": "300c34d6",
   "metadata": {},
   "outputs": [
    {
     "data": {
      "text/plain": [
       "4875.883900742124"
      ]
     },
     "execution_count": 44,
     "metadata": {},
     "output_type": "execute_result"
    }
   ],
   "source": [
    "mean_absolute_error(y_test, previsoes)"
   ]
  },
  {
   "cell_type": "markdown",
   "id": "987489d5",
   "metadata": {},
   "source": [
    "# <font size='3'>Mse</font>"
   ]
  },
  {
   "cell_type": "code",
   "execution_count": 43,
   "id": "2d81bf71",
   "metadata": {},
   "outputs": [
    {
     "data": {
      "text/plain": [
       "31466393.515982836"
      ]
     },
     "execution_count": 43,
     "metadata": {},
     "output_type": "execute_result"
    }
   ],
   "source": [
    "mean_squared_error(y_test, previsoes)"
   ]
  },
  {
   "cell_type": "markdown",
   "id": "16789827",
   "metadata": {},
   "source": [
    "# <font size='3'>Rmse: Root Mean Squared Error</font>"
   ]
  },
  {
   "cell_type": "code",
   "execution_count": 45,
   "id": "b3caa6e1",
   "metadata": {},
   "outputs": [
    {
     "data": {
      "text/plain": [
       "5609.491377654736"
      ]
     },
     "execution_count": 45,
     "metadata": {},
     "output_type": "execute_result"
    }
   ],
   "source": [
    "math.sqrt(mean_squared_error(y_test, previsoes))"
   ]
  }
 ],
 "metadata": {
  "kernelspec": {
   "display_name": "Python 3",
   "language": "python",
   "name": "python3"
  },
  "language_info": {
   "codemirror_mode": {
    "name": "ipython",
    "version": 3
   },
   "file_extension": ".py",
   "mimetype": "text/x-python",
   "name": "python",
   "nbconvert_exporter": "python",
   "pygments_lexer": "ipython3",
   "version": "3.8.8"
  }
 },
 "nbformat": 4,
 "nbformat_minor": 5
}

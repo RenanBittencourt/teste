{
 "cells": [
  {
   "cell_type": "markdown",
   "id": "f905ff11",
   "metadata": {},
   "source": [
    "# Dataset_Kaggle:Credit_Card_Customer_Data"
   ]
  },
  {
   "cell_type": "markdown",
   "id": "fb70cacb",
   "metadata": {},
   "source": [
    "# Importações"
   ]
  },
  {
   "cell_type": "code",
   "execution_count": 366,
   "id": "82d8297b",
   "metadata": {},
   "outputs": [],
   "source": [
    "import numpy as np\n",
    "import pandas as pd\n",
    "import matplotlib.pyplot as plt\n",
    "import seaborn as sns\n",
    "from sklearn.preprocessing import StandardScaler\n",
    "from sklearn.cluster import KMeans\n",
    "from sklearn.decomposition import PCA"
   ]
  },
  {
   "cell_type": "code",
   "execution_count": 367,
   "id": "8253da90",
   "metadata": {},
   "outputs": [
    {
     "data": {
      "text/html": [
       "<div>\n",
       "<style scoped>\n",
       "    .dataframe tbody tr th:only-of-type {\n",
       "        vertical-align: middle;\n",
       "    }\n",
       "\n",
       "    .dataframe tbody tr th {\n",
       "        vertical-align: top;\n",
       "    }\n",
       "\n",
       "    .dataframe thead th {\n",
       "        text-align: right;\n",
       "    }\n",
       "</style>\n",
       "<table border=\"1\" class=\"dataframe\">\n",
       "  <thead>\n",
       "    <tr style=\"text-align: right;\">\n",
       "      <th></th>\n",
       "      <th>Sl_No</th>\n",
       "      <th>Customer Key</th>\n",
       "      <th>Avg_Credit_Limit</th>\n",
       "      <th>Total_Credit_Cards</th>\n",
       "      <th>Total_visits_bank</th>\n",
       "      <th>Total_visits_online</th>\n",
       "      <th>Total_calls_made</th>\n",
       "    </tr>\n",
       "  </thead>\n",
       "  <tbody>\n",
       "    <tr>\n",
       "      <th>0</th>\n",
       "      <td>1</td>\n",
       "      <td>87073</td>\n",
       "      <td>100000</td>\n",
       "      <td>2</td>\n",
       "      <td>1</td>\n",
       "      <td>1</td>\n",
       "      <td>0</td>\n",
       "    </tr>\n",
       "    <tr>\n",
       "      <th>1</th>\n",
       "      <td>2</td>\n",
       "      <td>38414</td>\n",
       "      <td>50000</td>\n",
       "      <td>3</td>\n",
       "      <td>0</td>\n",
       "      <td>10</td>\n",
       "      <td>9</td>\n",
       "    </tr>\n",
       "    <tr>\n",
       "      <th>2</th>\n",
       "      <td>3</td>\n",
       "      <td>17341</td>\n",
       "      <td>50000</td>\n",
       "      <td>7</td>\n",
       "      <td>1</td>\n",
       "      <td>3</td>\n",
       "      <td>4</td>\n",
       "    </tr>\n",
       "    <tr>\n",
       "      <th>3</th>\n",
       "      <td>4</td>\n",
       "      <td>40496</td>\n",
       "      <td>30000</td>\n",
       "      <td>5</td>\n",
       "      <td>1</td>\n",
       "      <td>1</td>\n",
       "      <td>4</td>\n",
       "    </tr>\n",
       "    <tr>\n",
       "      <th>4</th>\n",
       "      <td>5</td>\n",
       "      <td>47437</td>\n",
       "      <td>100000</td>\n",
       "      <td>6</td>\n",
       "      <td>0</td>\n",
       "      <td>12</td>\n",
       "      <td>3</td>\n",
       "    </tr>\n",
       "    <tr>\n",
       "      <th>...</th>\n",
       "      <td>...</td>\n",
       "      <td>...</td>\n",
       "      <td>...</td>\n",
       "      <td>...</td>\n",
       "      <td>...</td>\n",
       "      <td>...</td>\n",
       "      <td>...</td>\n",
       "    </tr>\n",
       "    <tr>\n",
       "      <th>655</th>\n",
       "      <td>656</td>\n",
       "      <td>51108</td>\n",
       "      <td>99000</td>\n",
       "      <td>10</td>\n",
       "      <td>1</td>\n",
       "      <td>10</td>\n",
       "      <td>0</td>\n",
       "    </tr>\n",
       "    <tr>\n",
       "      <th>656</th>\n",
       "      <td>657</td>\n",
       "      <td>60732</td>\n",
       "      <td>84000</td>\n",
       "      <td>10</td>\n",
       "      <td>1</td>\n",
       "      <td>13</td>\n",
       "      <td>2</td>\n",
       "    </tr>\n",
       "    <tr>\n",
       "      <th>657</th>\n",
       "      <td>658</td>\n",
       "      <td>53834</td>\n",
       "      <td>145000</td>\n",
       "      <td>8</td>\n",
       "      <td>1</td>\n",
       "      <td>9</td>\n",
       "      <td>1</td>\n",
       "    </tr>\n",
       "    <tr>\n",
       "      <th>658</th>\n",
       "      <td>659</td>\n",
       "      <td>80655</td>\n",
       "      <td>172000</td>\n",
       "      <td>10</td>\n",
       "      <td>1</td>\n",
       "      <td>15</td>\n",
       "      <td>0</td>\n",
       "    </tr>\n",
       "    <tr>\n",
       "      <th>659</th>\n",
       "      <td>660</td>\n",
       "      <td>80150</td>\n",
       "      <td>167000</td>\n",
       "      <td>9</td>\n",
       "      <td>0</td>\n",
       "      <td>12</td>\n",
       "      <td>2</td>\n",
       "    </tr>\n",
       "  </tbody>\n",
       "</table>\n",
       "<p>660 rows × 7 columns</p>\n",
       "</div>"
      ],
      "text/plain": [
       "     Sl_No  Customer Key  Avg_Credit_Limit  Total_Credit_Cards  \\\n",
       "0        1         87073            100000                   2   \n",
       "1        2         38414             50000                   3   \n",
       "2        3         17341             50000                   7   \n",
       "3        4         40496             30000                   5   \n",
       "4        5         47437            100000                   6   \n",
       "..     ...           ...               ...                 ...   \n",
       "655    656         51108             99000                  10   \n",
       "656    657         60732             84000                  10   \n",
       "657    658         53834            145000                   8   \n",
       "658    659         80655            172000                  10   \n",
       "659    660         80150            167000                   9   \n",
       "\n",
       "     Total_visits_bank  Total_visits_online  Total_calls_made  \n",
       "0                    1                    1                 0  \n",
       "1                    0                   10                 9  \n",
       "2                    1                    3                 4  \n",
       "3                    1                    1                 4  \n",
       "4                    0                   12                 3  \n",
       "..                 ...                  ...               ...  \n",
       "655                  1                   10                 0  \n",
       "656                  1                   13                 2  \n",
       "657                  1                    9                 1  \n",
       "658                  1                   15                 0  \n",
       "659                  0                   12                 2  \n",
       "\n",
       "[660 rows x 7 columns]"
      ]
     },
     "execution_count": 367,
     "metadata": {},
     "output_type": "execute_result"
    }
   ],
   "source": [
    "data_raw = pd.read_csv('Credit Card Customer Data.csv')\n",
    "data_raw"
   ]
  },
  {
   "cell_type": "markdown",
   "id": "c7cb86a4",
   "metadata": {},
   "source": [
    "# Limpeza dos dados"
   ]
  },
  {
   "cell_type": "code",
   "execution_count": 368,
   "id": "d9ba978a",
   "metadata": {},
   "outputs": [
    {
     "data": {
      "text/plain": [
       "Sl_No                  int64\n",
       "Customer Key           int64\n",
       "Avg_Credit_Limit       int64\n",
       "Total_Credit_Cards     int64\n",
       "Total_visits_bank      int64\n",
       "Total_visits_online    int64\n",
       "Total_calls_made       int64\n",
       "dtype: object"
      ]
     },
     "execution_count": 368,
     "metadata": {},
     "output_type": "execute_result"
    }
   ],
   "source": [
    "data_raw.dtypes"
   ]
  },
  {
   "cell_type": "code",
   "execution_count": 369,
   "id": "3be85ade",
   "metadata": {},
   "outputs": [
    {
     "data": {
      "text/plain": [
       "0"
      ]
     },
     "execution_count": 369,
     "metadata": {},
     "output_type": "execute_result"
    }
   ],
   "source": [
    "data_raw.duplicated().sum()"
   ]
  },
  {
   "cell_type": "code",
   "execution_count": 370,
   "id": "bf8468ed",
   "metadata": {},
   "outputs": [
    {
     "data": {
      "text/plain": [
       "Sl_No                  0\n",
       "Customer Key           0\n",
       "Avg_Credit_Limit       0\n",
       "Total_Credit_Cards     0\n",
       "Total_visits_bank      0\n",
       "Total_visits_online    0\n",
       "Total_calls_made       0\n",
       "dtype: int64"
      ]
     },
     "execution_count": 370,
     "metadata": {},
     "output_type": "execute_result"
    }
   ],
   "source": [
    "data_raw.isnull().sum()"
   ]
  },
  {
   "cell_type": "code",
   "execution_count": 371,
   "id": "b5f69c50",
   "metadata": {},
   "outputs": [
    {
     "data": {
      "text/plain": [
       "Sl_No                  0\n",
       "Customer Key           0\n",
       "Avg_Credit_Limit       0\n",
       "Total_Credit_Cards     0\n",
       "Total_visits_bank      0\n",
       "Total_visits_online    0\n",
       "Total_calls_made       0\n",
       "dtype: int64"
      ]
     },
     "execution_count": 371,
     "metadata": {},
     "output_type": "execute_result"
    }
   ],
   "source": [
    "data_raw.isna().sum()"
   ]
  },
  {
   "cell_type": "markdown",
   "id": "7707bb3f",
   "metadata": {},
   "source": [
    "# Verificando Outliers"
   ]
  },
  {
   "cell_type": "code",
   "execution_count": 372,
   "id": "09d9dc66",
   "metadata": {},
   "outputs": [
    {
     "data": {
      "text/html": [
       "<div>\n",
       "<style scoped>\n",
       "    .dataframe tbody tr th:only-of-type {\n",
       "        vertical-align: middle;\n",
       "    }\n",
       "\n",
       "    .dataframe tbody tr th {\n",
       "        vertical-align: top;\n",
       "    }\n",
       "\n",
       "    .dataframe thead th {\n",
       "        text-align: right;\n",
       "    }\n",
       "</style>\n",
       "<table border=\"1\" class=\"dataframe\">\n",
       "  <thead>\n",
       "    <tr style=\"text-align: right;\">\n",
       "      <th></th>\n",
       "      <th>Sl_No</th>\n",
       "      <th>Customer Key</th>\n",
       "      <th>Avg_Credit_Limit</th>\n",
       "      <th>Total_Credit_Cards</th>\n",
       "      <th>Total_visits_bank</th>\n",
       "      <th>Total_visits_online</th>\n",
       "      <th>Total_calls_made</th>\n",
       "    </tr>\n",
       "  </thead>\n",
       "  <tbody>\n",
       "    <tr>\n",
       "      <th>count</th>\n",
       "      <td>660.000000</td>\n",
       "      <td>660.000000</td>\n",
       "      <td>660.000000</td>\n",
       "      <td>660.000000</td>\n",
       "      <td>660.000000</td>\n",
       "      <td>660.000000</td>\n",
       "      <td>660.000000</td>\n",
       "    </tr>\n",
       "    <tr>\n",
       "      <th>mean</th>\n",
       "      <td>330.500000</td>\n",
       "      <td>55141.443939</td>\n",
       "      <td>34574.242424</td>\n",
       "      <td>4.706061</td>\n",
       "      <td>2.403030</td>\n",
       "      <td>2.606061</td>\n",
       "      <td>3.583333</td>\n",
       "    </tr>\n",
       "    <tr>\n",
       "      <th>std</th>\n",
       "      <td>190.669872</td>\n",
       "      <td>25627.772200</td>\n",
       "      <td>37625.487804</td>\n",
       "      <td>2.167835</td>\n",
       "      <td>1.631813</td>\n",
       "      <td>2.935724</td>\n",
       "      <td>2.865317</td>\n",
       "    </tr>\n",
       "    <tr>\n",
       "      <th>min</th>\n",
       "      <td>1.000000</td>\n",
       "      <td>11265.000000</td>\n",
       "      <td>3000.000000</td>\n",
       "      <td>1.000000</td>\n",
       "      <td>0.000000</td>\n",
       "      <td>0.000000</td>\n",
       "      <td>0.000000</td>\n",
       "    </tr>\n",
       "    <tr>\n",
       "      <th>25%</th>\n",
       "      <td>165.750000</td>\n",
       "      <td>33825.250000</td>\n",
       "      <td>10000.000000</td>\n",
       "      <td>3.000000</td>\n",
       "      <td>1.000000</td>\n",
       "      <td>1.000000</td>\n",
       "      <td>1.000000</td>\n",
       "    </tr>\n",
       "    <tr>\n",
       "      <th>50%</th>\n",
       "      <td>330.500000</td>\n",
       "      <td>53874.500000</td>\n",
       "      <td>18000.000000</td>\n",
       "      <td>5.000000</td>\n",
       "      <td>2.000000</td>\n",
       "      <td>2.000000</td>\n",
       "      <td>3.000000</td>\n",
       "    </tr>\n",
       "    <tr>\n",
       "      <th>75%</th>\n",
       "      <td>495.250000</td>\n",
       "      <td>77202.500000</td>\n",
       "      <td>48000.000000</td>\n",
       "      <td>6.000000</td>\n",
       "      <td>4.000000</td>\n",
       "      <td>4.000000</td>\n",
       "      <td>5.000000</td>\n",
       "    </tr>\n",
       "    <tr>\n",
       "      <th>max</th>\n",
       "      <td>660.000000</td>\n",
       "      <td>99843.000000</td>\n",
       "      <td>200000.000000</td>\n",
       "      <td>10.000000</td>\n",
       "      <td>5.000000</td>\n",
       "      <td>15.000000</td>\n",
       "      <td>10.000000</td>\n",
       "    </tr>\n",
       "  </tbody>\n",
       "</table>\n",
       "</div>"
      ],
      "text/plain": [
       "            Sl_No  Customer Key  Avg_Credit_Limit  Total_Credit_Cards  \\\n",
       "count  660.000000    660.000000        660.000000          660.000000   \n",
       "mean   330.500000  55141.443939      34574.242424            4.706061   \n",
       "std    190.669872  25627.772200      37625.487804            2.167835   \n",
       "min      1.000000  11265.000000       3000.000000            1.000000   \n",
       "25%    165.750000  33825.250000      10000.000000            3.000000   \n",
       "50%    330.500000  53874.500000      18000.000000            5.000000   \n",
       "75%    495.250000  77202.500000      48000.000000            6.000000   \n",
       "max    660.000000  99843.000000     200000.000000           10.000000   \n",
       "\n",
       "       Total_visits_bank  Total_visits_online  Total_calls_made  \n",
       "count         660.000000           660.000000        660.000000  \n",
       "mean            2.403030             2.606061          3.583333  \n",
       "std             1.631813             2.935724          2.865317  \n",
       "min             0.000000             0.000000          0.000000  \n",
       "25%             1.000000             1.000000          1.000000  \n",
       "50%             2.000000             2.000000          3.000000  \n",
       "75%             4.000000             4.000000          5.000000  \n",
       "max             5.000000            15.000000         10.000000  "
      ]
     },
     "execution_count": 372,
     "metadata": {},
     "output_type": "execute_result"
    }
   ],
   "source": [
    "data_raw.describe()"
   ]
  },
  {
   "cell_type": "code",
   "execution_count": 373,
   "id": "d58e9a72",
   "metadata": {},
   "outputs": [
    {
     "data": {
      "image/png": "[encoded data removed]",
      "text/plain": [
       "<Figure size 432x288 with 1 Axes>"
      ]
     },
     "metadata": {
      "needs_background": "light"
     },
     "output_type": "display_data"
    },
    {
     "data": {
      "image/png": "[encoded data removed]",
      "text/plain": [
       "<Figure size 432x288 with 1 Axes>"
      ]
     },
     "metadata": {
      "needs_background": "light"
     },
     "output_type": "display_data"
    },
    {
     "data": {
      "image/png": "[encoded data removed]",
      "text/plain": [
       "<Figure size 432x288 with 1 Axes>"
      ]
     },
     "metadata": {
      "needs_background": "light"
     },
     "output_type": "display_data"
    },
    {
     "data": {
      "image/png": "[encoded data removed]",
      "text/plain": [
       "<Figure size 432x288 with 1 Axes>"
      ]
     },
     "metadata": {
      "needs_background": "light"
     },
     "output_type": "display_data"
    },
    {
     "data": {
      "image/png": "[encoded data removed]",
      "text/plain": [
       "<Figure size 432x288 with 1 Axes>"
      ]
     },
     "metadata": {
      "needs_background": "light"
     },
     "output_type": "display_data"
    },
    {
     "data": {
      "image/png": "[encoded data removed]",
      "text/plain": [
       "<Figure size 432x288 with 1 Axes>"
      ]
     },
     "metadata": {
      "needs_background": "light"
     },
     "output_type": "display_data"
    },
    {
     "data": {
      "image/png": "[encoded data removed]",
      "text/plain": [
       "<Figure size 432x288 with 1 Axes>"
      ]
     },
     "metadata": {
      "needs_background": "light"
     },
     "output_type": "display_data"
    }
   ],
   "source": [
    "for c in data_raw.columns:\n",
    "    data_raw.boxplot(column=[c])\n",
    "    plt.show()"
   ]
  },
  {
   "cell_type": "code",
   "execution_count": 374,
   "id": "be5e56c2",
   "metadata": {},
   "outputs": [],
   "source": [
    "column1 = data_raw['Avg_Credit_Limit'].values\n",
    "column2 = data_raw['Total_visits_online'].values"
   ]
  },
  {
   "cell_type": "markdown",
   "id": "9c9f80a1",
   "metadata": {},
   "source": [
    "# <font size='3'>Localizando valor minimo e maximo da coluna 'Avg_Credit_Limit'</font>"
   ]
  },
  {
   "cell_type": "code",
   "execution_count": 375,
   "id": "b3e01a75",
   "metadata": {},
   "outputs": [],
   "source": [
    "mean = np.mean(column1, axis=0)\n",
    "sd = np.std(column1, axis=0)"
   ]
  },
  {
   "cell_type": "code",
   "execution_count": 376,
   "id": "1fcb124a",
   "metadata": {},
   "outputs": [
    {
     "data": {
      "text/plain": [
       "(-40619.70325891271, 109768.18810739755)"
      ]
     },
     "execution_count": 376,
     "metadata": {},
     "output_type": "execute_result"
    }
   ],
   "source": [
    "mean - 2 * sd, mean + 2 * sd"
   ]
  },
  {
   "cell_type": "markdown",
   "id": "f4ffc8ea",
   "metadata": {},
   "source": [
    "# <font size='3'>Conforme BoxPlot temos outliers acima da mediana, então verificaremos quantos estão acima</font>"
   ]
  },
  {
   "cell_type": "code",
   "execution_count": 377,
   "id": "cf0e7720",
   "metadata": {},
   "outputs": [
    {
     "data": {
      "text/plain": [
       "37"
      ]
     },
     "execution_count": 377,
     "metadata": {},
     "output_type": "execute_result"
    }
   ],
   "source": [
    "list = [c for c in column1 if (c > (mean + 2 * sd))]\n",
    "len(list)"
   ]
  },
  {
   "cell_type": "markdown",
   "id": "689d06bb",
   "metadata": {},
   "source": [
    "# <font size='3'>Localizando valor minimo e maximo da coluna 'Total_visits_online'</font>"
   ]
  },
  {
   "cell_type": "code",
   "execution_count": 378,
   "id": "e0036920",
   "metadata": {},
   "outputs": [],
   "source": [
    "mean = np.mean(column2, axis=0)\n",
    "sd = np.std(column2, axis=0)"
   ]
  },
  {
   "cell_type": "code",
   "execution_count": 379,
   "id": "82049e0b",
   "metadata": {},
   "outputs": [
    {
     "data": {
      "text/plain": [
       "(-3.2609378819258104, 8.473059094047022)"
      ]
     },
     "execution_count": 379,
     "metadata": {},
     "output_type": "execute_result"
    }
   ],
   "source": [
    "mean - 2 * sd, mean + 2 * sd"
   ]
  },
  {
   "cell_type": "markdown",
   "id": "37423cb4",
   "metadata": {},
   "source": [
    "# <font size='3'>Conforme BoxPlot temos outliers acima da mediana, então verificaremos quantos estão acima</font>"
   ]
  },
  {
   "cell_type": "code",
   "execution_count": 380,
   "id": "d6fae4bb",
   "metadata": {},
   "outputs": [
    {
     "data": {
      "text/plain": [
       "37"
      ]
     },
     "execution_count": 380,
     "metadata": {},
     "output_type": "execute_result"
    }
   ],
   "source": [
    "list = [c for c in column2 if (c > (mean + 2 * sd))]\n",
    "len(list)"
   ]
  },
  {
   "cell_type": "markdown",
   "id": "d85e5f2e",
   "metadata": {},
   "source": [
    "# <font size='3'>Normalizando os Dados</font>"
   ]
  },
  {
   "cell_type": "code",
   "execution_count": 381,
   "id": "8c141394",
   "metadata": {},
   "outputs": [],
   "source": [
    "scaler = StandardScaler()\n",
    "sc = scaler.fit_transform(data_raw)\n",
    "df = pd.DataFrame(sc,columns = data_raw.columns)"
   ]
  },
  {
   "cell_type": "markdown",
   "id": "3024aab0",
   "metadata": {},
   "source": [
    "# Pré-Análise"
   ]
  },
  {
   "cell_type": "code",
   "execution_count": 382,
   "id": "f852ca84",
   "metadata": {},
   "outputs": [],
   "source": [
    "#df = data_raw"
   ]
  },
  {
   "cell_type": "code",
   "execution_count": 383,
   "id": "ee165553",
   "metadata": {},
   "outputs": [
    {
     "data": {
      "text/html": [
       "<div>\n",
       "<style scoped>\n",
       "    .dataframe tbody tr th:only-of-type {\n",
       "        vertical-align: middle;\n",
       "    }\n",
       "\n",
       "    .dataframe tbody tr th {\n",
       "        vertical-align: top;\n",
       "    }\n",
       "\n",
       "    .dataframe thead th {\n",
       "        text-align: right;\n",
       "    }\n",
       "</style>\n",
       "<table border=\"1\" class=\"dataframe\">\n",
       "  <thead>\n",
       "    <tr style=\"text-align: right;\">\n",
       "      <th></th>\n",
       "      <th>Sl_No</th>\n",
       "      <th>Customer Key</th>\n",
       "      <th>Avg_Credit_Limit</th>\n",
       "      <th>Total_Credit_Cards</th>\n",
       "      <th>Total_visits_bank</th>\n",
       "      <th>Total_visits_online</th>\n",
       "      <th>Total_calls_made</th>\n",
       "    </tr>\n",
       "  </thead>\n",
       "  <tbody>\n",
       "    <tr>\n",
       "      <th>count</th>\n",
       "      <td>6.600000e+02</td>\n",
       "      <td>6.600000e+02</td>\n",
       "      <td>6.600000e+02</td>\n",
       "      <td>6.600000e+02</td>\n",
       "      <td>6.600000e+02</td>\n",
       "      <td>6.600000e+02</td>\n",
       "      <td>6.600000e+02</td>\n",
       "    </tr>\n",
       "    <tr>\n",
       "      <th>mean</th>\n",
       "      <td>5.853903e-17</td>\n",
       "      <td>4.474535e-17</td>\n",
       "      <td>8.195465e-16</td>\n",
       "      <td>-4.006223e-15</td>\n",
       "      <td>1.157323e-16</td>\n",
       "      <td>1.944572e-16</td>\n",
       "      <td>-7.112156e-16</td>\n",
       "    </tr>\n",
       "    <tr>\n",
       "      <th>std</th>\n",
       "      <td>1.000758e+00</td>\n",
       "      <td>1.000758e+00</td>\n",
       "      <td>1.000758e+00</td>\n",
       "      <td>1.000758e+00</td>\n",
       "      <td>1.000758e+00</td>\n",
       "      <td>1.000758e+00</td>\n",
       "      <td>1.000758e+00</td>\n",
       "    </tr>\n",
       "    <tr>\n",
       "      <th>min</th>\n",
       "      <td>-1.729428e+00</td>\n",
       "      <td>-1.713365e+00</td>\n",
       "      <td>-8.398081e-01</td>\n",
       "      <td>-1.710864e+00</td>\n",
       "      <td>-1.473731e+00</td>\n",
       "      <td>-8.883795e-01</td>\n",
       "      <td>-1.251537e+00</td>\n",
       "    </tr>\n",
       "    <tr>\n",
       "      <th>25%</th>\n",
       "      <td>-8.647142e-01</td>\n",
       "      <td>-8.323923e-01</td>\n",
       "      <td>-6.536229e-01</td>\n",
       "      <td>-7.875852e-01</td>\n",
       "      <td>-8.604506e-01</td>\n",
       "      <td>-5.474897e-01</td>\n",
       "      <td>-9.022711e-01</td>\n",
       "    </tr>\n",
       "    <tr>\n",
       "      <th>50%</th>\n",
       "      <td>0.000000e+00</td>\n",
       "      <td>-4.947386e-02</td>\n",
       "      <td>-4.408398e-01</td>\n",
       "      <td>1.356941e-01</td>\n",
       "      <td>-2.471705e-01</td>\n",
       "      <td>-2.065999e-01</td>\n",
       "      <td>-2.037386e-01</td>\n",
       "    </tr>\n",
       "    <tr>\n",
       "      <th>75%</th>\n",
       "      <td>8.647142e-01</td>\n",
       "      <td>8.614790e-01</td>\n",
       "      <td>3.570968e-01</td>\n",
       "      <td>5.973337e-01</td>\n",
       "      <td>9.793898e-01</td>\n",
       "      <td>4.751797e-01</td>\n",
       "      <td>4.947938e-01</td>\n",
       "    </tr>\n",
       "    <tr>\n",
       "      <th>max</th>\n",
       "      <td>1.729428e+00</td>\n",
       "      <td>1.745585e+00</td>\n",
       "      <td>4.399975e+00</td>\n",
       "      <td>2.443892e+00</td>\n",
       "      <td>1.592670e+00</td>\n",
       "      <td>4.224968e+00</td>\n",
       "      <td>2.241125e+00</td>\n",
       "    </tr>\n",
       "  </tbody>\n",
       "</table>\n",
       "</div>"
      ],
      "text/plain": [
       "              Sl_No  Customer Key  Avg_Credit_Limit  Total_Credit_Cards  \\\n",
       "count  6.600000e+02  6.600000e+02      6.600000e+02        6.600000e+02   \n",
       "mean   5.853903e-17  4.474535e-17      8.195465e-16       -4.006223e-15   \n",
       "std    1.000758e+00  1.000758e+00      1.000758e+00        1.000758e+00   \n",
       "min   -1.729428e+00 -1.713365e+00     -8.398081e-01       -1.710864e+00   \n",
       "25%   -8.647142e-01 -8.323923e-01     -6.536229e-01       -7.875852e-01   \n",
       "50%    0.000000e+00 -4.947386e-02     -4.408398e-01        1.356941e-01   \n",
       "75%    8.647142e-01  8.614790e-01      3.570968e-01        5.973337e-01   \n",
       "max    1.729428e+00  1.745585e+00      4.399975e+00        2.443892e+00   \n",
       "\n",
       "       Total_visits_bank  Total_visits_online  Total_calls_made  \n",
       "count       6.600000e+02         6.600000e+02      6.600000e+02  \n",
       "mean        1.157323e-16         1.944572e-16     -7.112156e-16  \n",
       "std         1.000758e+00         1.000758e+00      1.000758e+00  \n",
       "min        -1.473731e+00        -8.883795e-01     -1.251537e+00  \n",
       "25%        -8.604506e-01        -5.474897e-01     -9.022711e-01  \n",
       "50%        -2.471705e-01        -2.065999e-01     -2.037386e-01  \n",
       "75%         9.793898e-01         4.751797e-01      4.947938e-01  \n",
       "max         1.592670e+00         4.224968e+00      2.241125e+00  "
      ]
     },
     "execution_count": 383,
     "metadata": {},
     "output_type": "execute_result"
    }
   ],
   "source": [
    "df.describe()"
   ]
  },
  {
   "cell_type": "code",
   "execution_count": 384,
   "id": "ee173168",
   "metadata": {},
   "outputs": [
    {
     "data": {
      "text/plain": [
       "(660, 7)"
      ]
     },
     "execution_count": 384,
     "metadata": {},
     "output_type": "execute_result"
    }
   ],
   "source": [
    "df.shape"
   ]
  },
  {
   "cell_type": "code",
   "execution_count": 385,
   "id": "a41f4b34",
   "metadata": {},
   "outputs": [
    {
     "data": {
      "text/plain": [
       "<AxesSubplot:>"
      ]
     },
     "execution_count": 385,
     "metadata": {},
     "output_type": "execute_result"
    },
    {
     "data": {
      "image/png": "[encoded data removed]",
      "text/plain": [
       "<Figure size 432x288 with 2 Axes>"
      ]
     },
     "metadata": {
      "needs_background": "light"
     },
     "output_type": "display_data"
    }
   ],
   "source": [
    "sns.heatmap(df.corr(), annot=True)"
   ]
  },
  {
   "cell_type": "code",
   "execution_count": 386,
   "id": "6147cfbf",
   "metadata": {},
   "outputs": [
    {
     "data": {
      "image/png": "[encoded data removed]",
      "text/plain": [
       "<Figure size 720x720 with 9 Axes>"
      ]
     },
     "metadata": {
      "needs_background": "light"
     },
     "output_type": "display_data"
    }
   ],
   "source": [
    "df.hist(figsize=(10,10));"
   ]
  },
  {
   "cell_type": "markdown",
   "id": "89c080b9",
   "metadata": {},
   "source": [
    "# Algoritmo K-Means"
   ]
  },
  {
   "cell_type": "code",
   "execution_count": 388,
   "id": "cadd02e0",
   "metadata": {},
   "outputs": [
    {
     "data": {
      "text/html": [
       "<div>\n",
       "<style scoped>\n",
       "    .dataframe tbody tr th:only-of-type {\n",
       "        vertical-align: middle;\n",
       "    }\n",
       "\n",
       "    .dataframe tbody tr th {\n",
       "        vertical-align: top;\n",
       "    }\n",
       "\n",
       "    .dataframe thead th {\n",
       "        text-align: right;\n",
       "    }\n",
       "</style>\n",
       "<table border=\"1\" class=\"dataframe\">\n",
       "  <thead>\n",
       "    <tr style=\"text-align: right;\">\n",
       "      <th></th>\n",
       "      <th>Avg_Credit_Limit</th>\n",
       "      <th>Total_Credit_Cards</th>\n",
       "      <th>Total_visits_bank</th>\n",
       "      <th>Total_visits_online</th>\n",
       "      <th>Total_calls_made</th>\n",
       "    </tr>\n",
       "  </thead>\n",
       "  <tbody>\n",
       "    <tr>\n",
       "      <th>0</th>\n",
       "      <td>1.740187</td>\n",
       "      <td>-1.249225</td>\n",
       "      <td>-0.860451</td>\n",
       "      <td>-0.547490</td>\n",
       "      <td>-1.251537</td>\n",
       "    </tr>\n",
       "    <tr>\n",
       "      <th>1</th>\n",
       "      <td>0.410293</td>\n",
       "      <td>-0.787585</td>\n",
       "      <td>-1.473731</td>\n",
       "      <td>2.520519</td>\n",
       "      <td>1.891859</td>\n",
       "    </tr>\n",
       "    <tr>\n",
       "      <th>2</th>\n",
       "      <td>0.410293</td>\n",
       "      <td>1.058973</td>\n",
       "      <td>-0.860451</td>\n",
       "      <td>0.134290</td>\n",
       "      <td>0.145528</td>\n",
       "    </tr>\n",
       "    <tr>\n",
       "      <th>3</th>\n",
       "      <td>-0.121665</td>\n",
       "      <td>0.135694</td>\n",
       "      <td>-0.860451</td>\n",
       "      <td>-0.547490</td>\n",
       "      <td>0.145528</td>\n",
       "    </tr>\n",
       "    <tr>\n",
       "      <th>4</th>\n",
       "      <td>1.740187</td>\n",
       "      <td>0.597334</td>\n",
       "      <td>-1.473731</td>\n",
       "      <td>3.202298</td>\n",
       "      <td>-0.203739</td>\n",
       "    </tr>\n",
       "    <tr>\n",
       "      <th>...</th>\n",
       "      <td>...</td>\n",
       "      <td>...</td>\n",
       "      <td>...</td>\n",
       "      <td>...</td>\n",
       "      <td>...</td>\n",
       "    </tr>\n",
       "    <tr>\n",
       "      <th>655</th>\n",
       "      <td>1.713589</td>\n",
       "      <td>2.443892</td>\n",
       "      <td>-0.860451</td>\n",
       "      <td>2.520519</td>\n",
       "      <td>-1.251537</td>\n",
       "    </tr>\n",
       "    <tr>\n",
       "      <th>656</th>\n",
       "      <td>1.314621</td>\n",
       "      <td>2.443892</td>\n",
       "      <td>-0.860451</td>\n",
       "      <td>3.543188</td>\n",
       "      <td>-0.553005</td>\n",
       "    </tr>\n",
       "    <tr>\n",
       "      <th>657</th>\n",
       "      <td>2.937092</td>\n",
       "      <td>1.520613</td>\n",
       "      <td>-0.860451</td>\n",
       "      <td>2.179629</td>\n",
       "      <td>-0.902271</td>\n",
       "    </tr>\n",
       "    <tr>\n",
       "      <th>658</th>\n",
       "      <td>3.655235</td>\n",
       "      <td>2.443892</td>\n",
       "      <td>-0.860451</td>\n",
       "      <td>4.224968</td>\n",
       "      <td>-1.251537</td>\n",
       "    </tr>\n",
       "    <tr>\n",
       "      <th>659</th>\n",
       "      <td>3.522245</td>\n",
       "      <td>1.982253</td>\n",
       "      <td>-1.473731</td>\n",
       "      <td>3.202298</td>\n",
       "      <td>-0.553005</td>\n",
       "    </tr>\n",
       "  </tbody>\n",
       "</table>\n",
       "<p>660 rows × 5 columns</p>\n",
       "</div>"
      ],
      "text/plain": [
       "     Avg_Credit_Limit  Total_Credit_Cards  Total_visits_bank  \\\n",
       "0            1.740187           -1.249225          -0.860451   \n",
       "1            0.410293           -0.787585          -1.473731   \n",
       "2            0.410293            1.058973          -0.860451   \n",
       "3           -0.121665            0.135694          -0.860451   \n",
       "4            1.740187            0.597334          -1.473731   \n",
       "..                ...                 ...                ...   \n",
       "655          1.713589            2.443892          -0.860451   \n",
       "656          1.314621            2.443892          -0.860451   \n",
       "657          2.937092            1.520613          -0.860451   \n",
       "658          3.655235            2.443892          -0.860451   \n",
       "659          3.522245            1.982253          -1.473731   \n",
       "\n",
       "     Total_visits_online  Total_calls_made  \n",
       "0              -0.547490         -1.251537  \n",
       "1               2.520519          1.891859  \n",
       "2               0.134290          0.145528  \n",
       "3              -0.547490          0.145528  \n",
       "4               3.202298         -0.203739  \n",
       "..                   ...               ...  \n",
       "655             2.520519         -1.251537  \n",
       "656             3.543188         -0.553005  \n",
       "657             2.179629         -0.902271  \n",
       "658             4.224968         -1.251537  \n",
       "659             3.202298         -0.553005  \n",
       "\n",
       "[660 rows x 5 columns]"
      ]
     },
     "execution_count": 388,
     "metadata": {},
     "output_type": "execute_result"
    }
   ],
   "source": [
    "df = df.iloc[:,2:7]\n",
    "df"
   ]
  },
  {
   "cell_type": "code",
   "execution_count": 389,
   "id": "654d0b9b",
   "metadata": {},
   "outputs": [
    {
     "name": "stderr",
     "output_type": "stream",
     "text": [
      "C:\\Users\\InfiniteMatrix\\anaconda3\\lib\\site-packages\\sklearn\\cluster\\_kmeans.py:881: UserWarning: KMeans is known to have a memory leak on Windows with MKL, when there are less chunks than available threads. You can avoid it by setting the environment variable OMP_NUM_THREADS=3.\n",
      "  warnings.warn(\n"
     ]
    }
   ],
   "source": [
    "wcss = []\n",
    "for c in range(1, 15):\n",
    "    kmeans = KMeans(n_clusters=c, max_iter=300)\n",
    "    kmeans.fit(df)\n",
    "    wcss.append(kmeans.inertia_)"
   ]
  },
  {
   "cell_type": "code",
   "execution_count": 390,
   "id": "c645c7c1",
   "metadata": {},
   "outputs": [
    {
     "data": {
      "image/png": "[encoded data removed]",
      "text/plain": [
       "<Figure size 432x288 with 1 Axes>"
      ]
     },
     "metadata": {
      "needs_background": "light"
     },
     "output_type": "display_data"
    }
   ],
   "source": [
    "plt.plot(range(1, 15), wcss)\n",
    "plt.title('Cotovelo de Yanbu')\n",
    "plt.xlabel('Numero de Clusters')\n",
    "plt.ylabel('wcss')\n",
    "plt.show()"
   ]
  },
  {
   "cell_type": "code",
   "execution_count": 391,
   "id": "cf964626",
   "metadata": {},
   "outputs": [
    {
     "data": {
      "text/plain": [
       "KMeans(n_clusters=3)"
      ]
     },
     "execution_count": 391,
     "metadata": {},
     "output_type": "execute_result"
    }
   ],
   "source": [
    "cluster = KMeans(n_clusters=3, max_iter=300)\n",
    "cluster.fit(df)"
   ]
  },
  {
   "cell_type": "code",
   "execution_count": 392,
   "id": "cbc43435",
   "metadata": {},
   "outputs": [
    {
     "data": {
      "text/plain": [
       "1    386\n",
       "0    224\n",
       "2     50\n",
       "Name: Clusters, dtype: int64"
      ]
     },
     "execution_count": 392,
     "metadata": {},
     "output_type": "execute_result"
    }
   ],
   "source": [
    "df['Clusters'] = cluster.labels_\n",
    "df['Clusters'].value_counts()"
   ]
  },
  {
   "cell_type": "code",
   "execution_count": 393,
   "id": "7a91765a",
   "metadata": {},
   "outputs": [
    {
     "data": {
      "text/html": [
       "<div>\n",
       "<style scoped>\n",
       "    .dataframe tbody tr th:only-of-type {\n",
       "        vertical-align: middle;\n",
       "    }\n",
       "\n",
       "    .dataframe tbody tr th {\n",
       "        vertical-align: top;\n",
       "    }\n",
       "\n",
       "    .dataframe thead th {\n",
       "        text-align: right;\n",
       "    }\n",
       "</style>\n",
       "<table border=\"1\" class=\"dataframe\">\n",
       "  <thead>\n",
       "    <tr style=\"text-align: right;\">\n",
       "      <th></th>\n",
       "      <th>Avg_Credit_Limit</th>\n",
       "      <th>Total_Credit_Cards</th>\n",
       "      <th>Total_visits_bank</th>\n",
       "      <th>Total_visits_online</th>\n",
       "      <th>Total_calls_made</th>\n",
       "      <th>Clusters</th>\n",
       "    </tr>\n",
       "  </thead>\n",
       "  <tbody>\n",
       "    <tr>\n",
       "      <th>0</th>\n",
       "      <td>1.740187</td>\n",
       "      <td>-1.249225</td>\n",
       "      <td>-0.860451</td>\n",
       "      <td>-0.547490</td>\n",
       "      <td>-1.251537</td>\n",
       "      <td>1</td>\n",
       "    </tr>\n",
       "    <tr>\n",
       "      <th>1</th>\n",
       "      <td>0.410293</td>\n",
       "      <td>-0.787585</td>\n",
       "      <td>-1.473731</td>\n",
       "      <td>2.520519</td>\n",
       "      <td>1.891859</td>\n",
       "      <td>0</td>\n",
       "    </tr>\n",
       "    <tr>\n",
       "      <th>2</th>\n",
       "      <td>0.410293</td>\n",
       "      <td>1.058973</td>\n",
       "      <td>-0.860451</td>\n",
       "      <td>0.134290</td>\n",
       "      <td>0.145528</td>\n",
       "      <td>1</td>\n",
       "    </tr>\n",
       "    <tr>\n",
       "      <th>3</th>\n",
       "      <td>-0.121665</td>\n",
       "      <td>0.135694</td>\n",
       "      <td>-0.860451</td>\n",
       "      <td>-0.547490</td>\n",
       "      <td>0.145528</td>\n",
       "      <td>1</td>\n",
       "    </tr>\n",
       "    <tr>\n",
       "      <th>4</th>\n",
       "      <td>1.740187</td>\n",
       "      <td>0.597334</td>\n",
       "      <td>-1.473731</td>\n",
       "      <td>3.202298</td>\n",
       "      <td>-0.203739</td>\n",
       "      <td>2</td>\n",
       "    </tr>\n",
       "  </tbody>\n",
       "</table>\n",
       "</div>"
      ],
      "text/plain": [
       "   Avg_Credit_Limit  Total_Credit_Cards  Total_visits_bank  \\\n",
       "0          1.740187           -1.249225          -0.860451   \n",
       "1          0.410293           -0.787585          -1.473731   \n",
       "2          0.410293            1.058973          -0.860451   \n",
       "3         -0.121665            0.135694          -0.860451   \n",
       "4          1.740187            0.597334          -1.473731   \n",
       "\n",
       "   Total_visits_online  Total_calls_made  Clusters  \n",
       "0            -0.547490         -1.251537         1  \n",
       "1             2.520519          1.891859         0  \n",
       "2             0.134290          0.145528         1  \n",
       "3            -0.547490          0.145528         1  \n",
       "4             3.202298         -0.203739         2  "
      ]
     },
     "execution_count": 393,
     "metadata": {},
     "output_type": "execute_result"
    }
   ],
   "source": [
    "df.head()"
   ]
  },
  {
   "cell_type": "markdown",
   "id": "6921b9de",
   "metadata": {},
   "source": [
    "# Visualizando PCA"
   ]
  },
  {
   "cell_type": "code",
   "execution_count": 394,
   "id": "26e9d298",
   "metadata": {},
   "outputs": [],
   "source": [
    "pca = PCA(n_components=2)\n",
    "pca_df = pca.fit_transform(df)\n",
    "cluster_df = pd.DataFrame(data=pca_df, columns=['componente_1', 'componente_2'])\n",
    "df_cluster = pd.concat([cluster_df, df['Clusters']], axis=1)"
   ]
  },
  {
   "cell_type": "code",
   "execution_count": 395,
   "id": "63b5e93c",
   "metadata": {},
   "outputs": [
    {
     "data": {
      "text/html": [
       "<div>\n",
       "<style scoped>\n",
       "    .dataframe tbody tr th:only-of-type {\n",
       "        vertical-align: middle;\n",
       "    }\n",
       "\n",
       "    .dataframe tbody tr th {\n",
       "        vertical-align: top;\n",
       "    }\n",
       "\n",
       "    .dataframe thead th {\n",
       "        text-align: right;\n",
       "    }\n",
       "</style>\n",
       "<table border=\"1\" class=\"dataframe\">\n",
       "  <thead>\n",
       "    <tr style=\"text-align: right;\">\n",
       "      <th></th>\n",
       "      <th>componente_1</th>\n",
       "      <th>componente_2</th>\n",
       "      <th>Clusters</th>\n",
       "    </tr>\n",
       "  </thead>\n",
       "  <tbody>\n",
       "    <tr>\n",
       "      <th>0</th>\n",
       "      <td>0.565831</td>\n",
       "      <td>0.520005</td>\n",
       "      <td>1</td>\n",
       "    </tr>\n",
       "    <tr>\n",
       "      <th>1</th>\n",
       "      <td>-1.593678</td>\n",
       "      <td>3.119289</td>\n",
       "      <td>0</td>\n",
       "    </tr>\n",
       "    <tr>\n",
       "      <th>2</th>\n",
       "      <td>0.593181</td>\n",
       "      <td>0.818848</td>\n",
       "      <td>1</td>\n",
       "    </tr>\n",
       "    <tr>\n",
       "      <th>3</th>\n",
       "      <td>-0.246852</td>\n",
       "      <td>0.134455</td>\n",
       "      <td>1</td>\n",
       "    </tr>\n",
       "    <tr>\n",
       "      <th>4</th>\n",
       "      <td>1.661398</td>\n",
       "      <td>3.660160</td>\n",
       "      <td>2</td>\n",
       "    </tr>\n",
       "  </tbody>\n",
       "</table>\n",
       "</div>"
      ],
      "text/plain": [
       "   componente_1  componente_2  Clusters\n",
       "0      0.565831      0.520005         1\n",
       "1     -1.593678      3.119289         0\n",
       "2      0.593181      0.818848         1\n",
       "3     -0.246852      0.134455         1\n",
       "4      1.661398      3.660160         2"
      ]
     },
     "execution_count": 395,
     "metadata": {},
     "output_type": "execute_result"
    }
   ],
   "source": [
    "df_cluster.head()"
   ]
  },
  {
   "cell_type": "code",
   "execution_count": 396,
   "id": "22ccc35b",
   "metadata": {},
   "outputs": [
    {
     "data": {
      "image/png": "[encoded data removed]",
      "text/plain": [
       "<Figure size 720x720 with 1 Axes>"
      ]
     },
     "metadata": {
      "needs_background": "light"
     },
     "output_type": "display_data"
    }
   ],
   "source": [
    "figure = plt.figure(figsize=(10,10))\n",
    "ax = figure.add_subplot(1, 1, 1)\n",
    "ax.set_title('Componentes Principais', fontsize=15)\n",
    "ax.set_xlabel('Componente_1', fontsize=15)\n",
    "ax.set_ylabel('Componente_2', fontsize=15)\n",
    "color_theme = np.array(['blue', 'green', 'orange'])\n",
    "ax.scatter(x = df_cluster.componente_1, y = df_cluster.componente_2, c = color_theme[df_cluster.Clusters], s = 50)\n",
    "plt.show()"
   ]
  },
  {
   "cell_type": "markdown",
   "id": "692f8e0c",
   "metadata": {},
   "source": [
    "# Salvando Agrupamento"
   ]
  },
  {
   "cell_type": "code",
   "execution_count": 365,
   "id": "0d33e1e1",
   "metadata": {},
   "outputs": [],
   "source": [
    "df.to_csv('Agrupamento_K-Means.csv')"
   ]
  }
 ],
 "metadata": {
  "kernelspec": {
   "display_name": "Python 3",
   "language": "python",
   "name": "python3"
  },
  "language_info": {
   "codemirror_mode": {
    "name": "ipython",
    "version": 3
   },
   "file_extension": ".py",
   "mimetype": "text/x-python",
   "name": "python",
   "nbconvert_exporter": "python",
   "pygments_lexer": "ipython3",
   "version": "3.8.8"
  }
 },
 "nbformat": 4,
 "nbformat_minor": 5
}
